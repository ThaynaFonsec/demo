{
  "nbformat": 4,
  "nbformat_minor": 0,
  "metadata": {
    "colab": {
      "name": "Aula-26-08.ipynb",
      "provenance": [],
      "authorship_tag": "ABX9TyP+uI4kS0WnfATAz5ZINduc",
      "include_colab_link": true
    },
    "kernelspec": {
      "name": "python3",
      "display_name": "Python 3"
    }
  },
  "cells": [
    {
      "cell_type": "markdown",
      "metadata": {
        "id": "view-in-github",
        "colab_type": "text"
      },
      "source": [
        "<a href=\"https://colab.research.google.com/github/ThaynaFonsec/demo/blob/master/Aula_26_08.ipynb\" target=\"_parent\"><img src=\"https://colab.research.google.com/assets/colab-badge.svg\" alt=\"Open In Colab\"/></a>"
      ]
    },
    {
      "cell_type": "code",
      "metadata": {
        "id": "LekOdEjgHEkr",
        "colab_type": "code",
        "colab": {
          "base_uri": "https://localhost:8080/",
          "height": 34
        },
        "outputId": "c3b2c171-5e8a-4fb7-8755-fed41e531f57"
      },
      "source": [
        "x=3**3\n",
        "print(x)"
      ],
      "execution_count": 1,
      "outputs": [
        {
          "output_type": "stream",
          "text": [
            "27\n"
          ],
          "name": "stdout"
        }
      ]
    },
    {
      "cell_type": "code",
      "metadata": {
        "id": "68U6USGEMC3G",
        "colab_type": "code",
        "colab": {
          "base_uri": "https://localhost:8080/",
          "height": 51
        },
        "outputId": "4199cb89-6965-4a69-d7cb-60cabc0ce414"
      },
      "source": [
        "y=30//12\n",
        "print(y)\n",
        "z=30%12\n",
        "print(z)"
      ],
      "execution_count": 4,
      "outputs": [
        {
          "output_type": "stream",
          "text": [
            "2\n",
            "6\n"
          ],
          "name": "stdout"
        }
      ]
    },
    {
      "cell_type": "code",
      "metadata": {
        "id": "YGIDBcudOPRe",
        "colab_type": "code",
        "colab": {
          "base_uri": "https://localhost:8080/",
          "height": 68
        },
        "outputId": "b9dfe5ba-26bf-49d3-887c-01bd8447a5d9"
      },
      "source": [
        "Var1 = \"Texto 1\"\n",
        "Var2 = 10\n",
        "Var3 = 100/5\n",
        "print(type(Var1))\n",
        "print(type(Var2)) \n",
        "print(type(Var3)) "
      ],
      "execution_count": 5,
      "outputs": [
        {
          "output_type": "stream",
          "text": [
            "<class 'str'>\n",
            "<class 'int'>\n",
            "<class 'float'>\n"
          ],
          "name": "stdout"
        }
      ]
    },
    {
      "cell_type": "code",
      "metadata": {
        "id": "F8hwvQT_Oi5e",
        "colab_type": "code",
        "colab": {
          "base_uri": "https://localhost:8080/",
          "height": 34
        },
        "outputId": "dfbc902c-6248-4297-9443-0638acdfc081"
      },
      "source": [
        "Meu_Texto1 = \"A cada/dmfo 565\"\n",
        "print( len(Meu_Texto1) )"
      ],
      "execution_count": 6,
      "outputs": [
        {
          "output_type": "stream",
          "text": [
            "15\n"
          ],
          "name": "stdout"
        }
      ]
    },
    {
      "cell_type": "code",
      "metadata": {
        "id": "Jqi0FVcBerme",
        "colab_type": "code",
        "colab": {
          "base_uri": "https://localhost:8080/",
          "height": 34
        },
        "outputId": "82caa740-b1d4-4f7d-cd0e-c2144c59bdbe"
      },
      "source": [
        "Meu_Texto2 = \"A casa da Carol /n A casa da Thayná\"\n",
        "print(Meu_Texto2)"
      ],
      "execution_count": 7,
      "outputs": [
        {
          "output_type": "stream",
          "text": [
            "A casa da Carol /n A casa da Thayná\n"
          ],
          "name": "stdout"
        }
      ]
    },
    {
      "cell_type": "code",
      "metadata": {
        "id": "ls5mZ9cCfA87",
        "colab_type": "code",
        "colab": {
          "base_uri": "https://localhost:8080/",
          "height": 51
        },
        "outputId": "4263fadf-3c35-42c3-951d-c753f28b9ff3"
      },
      "source": [
        "Meu_Texto3 = \"Classe A \\n Classe B\"\n",
        "print(Meu_Texto3)"
      ],
      "execution_count": 8,
      "outputs": [
        {
          "output_type": "stream",
          "text": [
            "Classe A \n",
            " Classe B\n"
          ],
          "name": "stdout"
        }
      ]
    },
    {
      "cell_type": "code",
      "metadata": {
        "id": "1n397dTsql2l",
        "colab_type": "code",
        "colab": {
          "base_uri": "https://localhost:8080/",
          "height": 68
        },
        "outputId": "3d5e5c17-4a4a-4b6d-8916-e4d04185adf7"
      },
      "source": [
        "print(Meu_Texto3)\n",
        "print( len(Meu_Texto3) )"
      ],
      "execution_count": 9,
      "outputs": [
        {
          "output_type": "stream",
          "text": [
            "Classe A \n",
            " Classe B\n",
            "19\n"
          ],
          "name": "stdout"
        }
      ]
    },
    {
      "cell_type": "code",
      "metadata": {
        "id": "yk13C5U2q9zZ",
        "colab_type": "code",
        "colab": {
          "base_uri": "https://localhost:8080/",
          "height": 34
        },
        "outputId": "d7e36700-5229-4c1b-e1c9-405bb071bb34"
      },
      "source": [
        "Frase = \"asdfghjklçqwertyuioas\"\n",
        "print(Frase[11])"
      ],
      "execution_count": 11,
      "outputs": [
        {
          "output_type": "stream",
          "text": [
            "w\n"
          ],
          "name": "stdout"
        }
      ]
    },
    {
      "cell_type": "code",
      "metadata": {
        "id": "c8KG3sUYshO1",
        "colab_type": "code",
        "colab": {
          "base_uri": "https://localhost:8080/",
          "height": 34
        },
        "outputId": "835071c0-8407-46cf-f25d-3eeb52d94750"
      },
      "source": [
        "print(Frase[:2])"
      ],
      "execution_count": 15,
      "outputs": [
        {
          "output_type": "stream",
          "text": [
            "as\n"
          ],
          "name": "stdout"
        }
      ]
    },
    {
      "cell_type": "code",
      "metadata": {
        "id": "dLKpXEdIte4I",
        "colab_type": "code",
        "colab": {
          "base_uri": "https://localhost:8080/",
          "height": 34
        },
        "outputId": "a0c4faa4-f858-47ed-8aa4-6952e9ea0958"
      },
      "source": [
        "print(Frase[2:])"
      ],
      "execution_count": 17,
      "outputs": [
        {
          "output_type": "stream",
          "text": [
            "dfghjklçqwertyuioas\n"
          ],
          "name": "stdout"
        }
      ]
    },
    {
      "cell_type": "code",
      "metadata": {
        "id": "NCwoCFIVvBDQ",
        "colab_type": "code",
        "colab": {
          "base_uri": "https://localhost:8080/",
          "height": 34
        },
        "outputId": "6c42a542-396a-4462-9879-bd18cd4280c9"
      },
      "source": [
        "Frase_2 = \"abcdefghij\"\n",
        "print(Frase_2[2:8:3])"
      ],
      "execution_count": 18,
      "outputs": [
        {
          "output_type": "stream",
          "text": [
            "cf\n"
          ],
          "name": "stdout"
        }
      ]
    },
    {
      "cell_type": "code",
      "metadata": {
        "id": "9E6CNoSxvMOb",
        "colab_type": "code",
        "colab": {
          "base_uri": "https://localhost:8080/",
          "height": 34
        },
        "outputId": "99b843fa-3cb4-4ced-ec75-644c4c7d41cd"
      },
      "source": [
        "print(Frase_2 [3::3])"
      ],
      "execution_count": 19,
      "outputs": [
        {
          "output_type": "stream",
          "text": [
            "dgj\n"
          ],
          "name": "stdout"
        }
      ]
    },
    {
      "cell_type": "code",
      "metadata": {
        "id": "U66bq4mVwQcp",
        "colab_type": "code",
        "colab": {
          "base_uri": "https://localhost:8080/",
          "height": 34
        },
        "outputId": "bb0e14b2-49c4-48ed-8b9e-9e864532f3c7"
      },
      "source": [
        "print(Frase_2[::-1])"
      ],
      "execution_count": 20,
      "outputs": [
        {
          "output_type": "stream",
          "text": [
            "jihgfedcba\n"
          ],
          "name": "stdout"
        }
      ]
    },
    {
      "cell_type": "code",
      "metadata": {
        "id": "wSUS3Nf1xO4o",
        "colab_type": "code",
        "colab": {}
      },
      "source": [
        "Txt1 = \"IESB\"\n",
        "Txt2 = \"O\" + Txt1[1:]"
      ],
      "execution_count": 21,
      "outputs": []
    },
    {
      "cell_type": "code",
      "metadata": {
        "id": "AvgWk-HhyOj6",
        "colab_type": "code",
        "colab": {
          "base_uri": "https://localhost:8080/",
          "height": 34
        },
        "outputId": "a346a568-9db1-46ad-b461-0241ae843c7c"
      },
      "source": [
        "print(Txt2)"
      ],
      "execution_count": 22,
      "outputs": [
        {
          "output_type": "stream",
          "text": [
            "OESB\n"
          ],
          "name": "stdout"
        }
      ]
    },
    {
      "cell_type": "code",
      "metadata": {
        "id": "j430hTQVyR7A",
        "colab_type": "code",
        "colab": {
          "base_uri": "https://localhost:8080/",
          "height": 34
        },
        "outputId": "72f644fc-c492-4c8f-abaf-c84ddf9619f5"
      },
      "source": [
        "Txt1 = Txt1 + Txt1\n",
        "print(Txt1)"
      ],
      "execution_count": 23,
      "outputs": [
        {
          "output_type": "stream",
          "text": [
            "IESBIESB\n"
          ],
          "name": "stdout"
        }
      ]
    },
    {
      "cell_type": "code",
      "metadata": {
        "id": "7s9KEMdrysRl",
        "colab_type": "code",
        "colab": {
          "base_uri": "https://localhost:8080/",
          "height": 34
        },
        "outputId": "9b12b1e3-3a69-449f-9a75-46adb5f39de8"
      },
      "source": [
        "print(Txt1)"
      ],
      "execution_count": 24,
      "outputs": [
        {
          "output_type": "stream",
          "text": [
            "IESBIESB\n"
          ],
          "name": "stdout"
        }
      ]
    },
    {
      "cell_type": "code",
      "metadata": {
        "id": "goiZgJ0vyxbV",
        "colab_type": "code",
        "colab": {
          "base_uri": "https://localhost:8080/",
          "height": 34
        },
        "outputId": "65c5825e-68a5-4064-b16f-10713d0038bc"
      },
      "source": [
        "Txt3 = 3 * Txt1\n",
        "print(Txt3)"
      ],
      "execution_count": 25,
      "outputs": [
        {
          "output_type": "stream",
          "text": [
            "IESBIESBIESBIESBIESBIESB\n"
          ],
          "name": "stdout"
        }
      ]
    },
    {
      "cell_type": "code",
      "metadata": {
        "id": "zeyC0mbey7oU",
        "colab_type": "code",
        "colab": {
          "base_uri": "https://localhost:8080/",
          "height": 54
        },
        "outputId": "1ecc92cd-43e3-419d-f96f-37af3fe6a64c"
      },
      "source": [
        "Text = 'O processador é o cérebro do computador, sendo o componente responsável por efetuar os cálculos necessários para você realizar suas tarefas cotidianas.'\n",
        "Frase_Separada = Text.split()\n",
        "print(Frase_Separada)"
      ],
      "execution_count": 26,
      "outputs": [
        {
          "output_type": "stream",
          "text": [
            "['O', 'processador', 'é', 'o', 'cérebro', 'do', 'computador,', 'sendo', 'o', 'componente', 'responsável', 'por', 'efetuar', 'os', 'cálculos', 'necessários', 'para', 'você', 'realizar', 'suas', 'tarefas', 'cotidianas.']\n"
          ],
          "name": "stdout"
        }
      ]
    },
    {
      "cell_type": "code",
      "metadata": {
        "id": "u_GkK13Yz-HH",
        "colab_type": "code",
        "colab": {
          "base_uri": "https://localhost:8080/",
          "height": 34
        },
        "outputId": "be721c94-ce1e-45b9-fe56-f4b084d70176"
      },
      "source": [
        "print( len(Frase_Separada))"
      ],
      "execution_count": 27,
      "outputs": [
        {
          "output_type": "stream",
          "text": [
            "22\n"
          ],
          "name": "stdout"
        }
      ]
    },
    {
      "cell_type": "code",
      "metadata": {
        "id": "QzNNHDEj0afT",
        "colab_type": "code",
        "colab": {
          "base_uri": "https://localhost:8080/",
          "height": 54
        },
        "outputId": "77229eaf-9da6-4481-a762-82516383c543"
      },
      "source": [
        "Frase_Separada = Text.split('n')\n",
        "print(Frase_Separada)"
      ],
      "execution_count": 28,
      "outputs": [
        {
          "output_type": "stream",
          "text": [
            "['O processador é o cérebro do computador, se', 'do o compo', 'e', 'te respo', 'sável por efetuar os cálculos ', 'ecessários para você realizar suas tarefas cotidia', 'as.']\n"
          ],
          "name": "stdout"
        }
      ]
    },
    {
      "cell_type": "code",
      "metadata": {
        "id": "_-Cloe_j1ooo",
        "colab_type": "code",
        "colab": {
          "base_uri": "https://localhost:8080/",
          "height": 34
        },
        "outputId": "b3e0201a-e61a-4b96-dbcd-43ddf3961d28"
      },
      "source": [
        "Contando = 'asdxfrexx'\n",
        "print(len(Contando.split(\"x\"))-1)"
      ],
      "execution_count": 30,
      "outputs": [
        {
          "output_type": "stream",
          "text": [
            "3\n"
          ],
          "name": "stdout"
        }
      ]
    },
    {
      "cell_type": "code",
      "metadata": {
        "id": "ygDxs0U820Oj",
        "colab_type": "code",
        "colab": {
          "base_uri": "https://localhost:8080/",
          "height": 34
        },
        "outputId": "f906335f-7724-48a3-b20f-b9c948d2ee60"
      },
      "source": [
        "MeusCarros = \"Meus carros foram: {}, {}, {}, {}, {}\"\n",
        "Carro0 = 'KA'\n",
        "Carro1 = 'Gol'\n",
        "Carro2 = 'Sentra'\n",
        "Carro3 = 'Bravo'\n",
        "Carro4 = 'Virtus'\n",
        "print(MeusCarros.format(Carro0, Carro1, Carro2, Carro3, Carro4))"
      ],
      "execution_count": 32,
      "outputs": [
        {
          "output_type": "stream",
          "text": [
            "Meus carros foram: KA, Gol, Sentra, Bravo, Virtus\n"
          ],
          "name": "stdout"
        }
      ]
    },
    {
      "cell_type": "code",
      "metadata": {
        "id": "rO2VbcgZ6c8b",
        "colab_type": "code",
        "colab": {}
      },
      "source": [
        ""
      ],
      "execution_count": null,
      "outputs": []
    }
  ]
}